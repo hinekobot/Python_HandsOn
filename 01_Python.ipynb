{
  "nbformat": 4,
  "nbformat_minor": 0,
  "metadata": {
    "colab": {
      "name": "01_Python.ipynb",
      "version": "0.3.2",
      "provenance": [],
      "toc_visible": true
    },
    "kernelspec": {
      "display_name": "Python 3",
      "language": "python",
      "name": "python3"
    }
  },
  "cells": [
    {
      "metadata": {
        "id": "rnax13TAvTvJ",
        "colab_type": "text"
      },
      "cell_type": "markdown",
      "source": [
        "# Pythonの基本的な動作\n",
        "---\n",
        "- 数値・文字列・変数\n",
        "    - 基本的な組み込みデータ型\n",
        "    - 数値データの取り扱い\n",
        "    - 文字列の操作\n",
        "    - オブジェクト\n",
        "- 配列的なものの操作\n",
        "    - List\n",
        "    - Tuple\n",
        "    - Dictionary\n",
        "    - Set\n",
        "- 繰り返しと分岐\n",
        "    - for\n",
        "    - while\n",
        "    - if\n",
        "---"
      ]
    },
    {
      "metadata": {
        "id": "2wAnj5jRvTvP",
        "colab_type": "text"
      },
      "cell_type": "markdown",
      "source": [
        "## 数値・文字列・変数\n",
        "### Pythonの基本的な組込みデータ型  \n",
        "以下の4種類\n",
        "- ブール値(True,False)\n",
        "    - 比較演算子(if文の条件判定に使う`>`とか)の返り値もブール値\n",
        "- 整数(小数点以下がない数値)\n",
        "- 浮動小数点数(小数点以下の部分がある数値、もしくは指数表現)\n",
        "- 文字列  \n",
        "\n",
        "`type()`関数でデータ型を確認してみる  \n",
        "※`print()`関数：引数を表示する、数値は文字列に変換する必要あり"
      ]
    },
    {
      "metadata": {
        "id": "GdEBecADvTvR",
        "colab_type": "code",
        "colab": {}
      },
      "cell_type": "code",
      "source": [
        "# Boolean\n",
        "x = True\n",
        "print('True->',x,type(x))\n",
        "x = False\n",
        "print('False->',x,type(x))"
      ],
      "execution_count": 0,
      "outputs": []
    },
    {
      "metadata": {
        "id": "bPf9YaZuvTvY",
        "colab_type": "code",
        "colab": {}
      },
      "cell_type": "code",
      "source": [
        "# 比較演算子での結果\n",
        "x = (1==1)\n",
        "print(1==1)\n",
        "print('1==1 ->',x,type(x))\n",
        "x = (2<-2)\n",
        "print(x)\n",
        "print('2<-2 ->',x,type(x))"
      ],
      "execution_count": 0,
      "outputs": []
    },
    {
      "metadata": {
        "id": "p4tSTKeTvTvf",
        "colab_type": "code",
        "colab": {}
      },
      "cell_type": "code",
      "source": [
        "# Integer\n",
        "x = 4\n",
        "print('正の整数 -> ',str(x),type(x))\n",
        "x = -3\n",
        "print('負の整数 -> ',str(x),type(x))\n",
        "x = 0\n",
        "print('0       -> ',str(x),type(x))"
      ],
      "execution_count": 0,
      "outputs": []
    },
    {
      "metadata": {
        "id": "t_0yweMRvTvj",
        "colab_type": "code",
        "colab": {}
      },
      "cell_type": "code",
      "source": [
        "# float\n",
        "x = 4.3\n",
        "print('実数 ｰ> ',str(x),type(x))\n",
        "x = 5.0\n",
        "print('実数(小数点以下が0) ｰ> ',str(x),type(x))\n",
        "x = 3E2\n",
        "print('実数(指数表記) -> ',str(x),type(x))"
      ],
      "execution_count": 0,
      "outputs": []
    },
    {
      "metadata": {
        "id": "vsiZpf_tvTvo",
        "colab_type": "code",
        "colab": {}
      },
      "cell_type": "code",
      "source": [
        "# string\n",
        "x = 'string'\n",
        "print('文字列 -> ',x,type(x))\n",
        "x = '3'\n",
        "print('文字列 -> ',x,type(x))\n",
        "x = str(5)\n",
        "print('文字列 -> ',x,type(x))"
      ],
      "execution_count": 0,
      "outputs": []
    },
    {
      "metadata": {
        "id": "XbAR4VpPvTvt",
        "colab_type": "text"
      },
      "cell_type": "markdown",
      "source": [
        "---\n",
        "### 数値データの取り扱い  \n",
        "intとfloatで演算すると自動でfloatにしてくれる\n",
        "- 加算\n",
        "- 減算\n",
        "- 乗算\n",
        "- 除算\n",
        "- 整数の除算（切り捨て）\n",
        "- 剰余\n",
        "- 指数\n",
        "\n",
        "(このnotebookに未実装)`math`ライブラリをインポートすることで三角関数や複素数などを扱える"
      ]
    },
    {
      "metadata": {
        "id": "WgLeIPsRvTvu",
        "colab_type": "text"
      },
      "cell_type": "markdown",
      "source": [
        "#### 加算\n",
        "    "
      ]
    },
    {
      "metadata": {
        "id": "KbLS7Xe2vTvw",
        "colab_type": "code",
        "colab": {}
      },
      "cell_type": "code",
      "source": [
        "# int+int\n",
        "x = 5;y = 9\n",
        "print('x->',x,'y->',y,'x+y->',x + y,'type->',type(x+y))"
      ],
      "execution_count": 0,
      "outputs": []
    },
    {
      "metadata": {
        "id": "WeRAjcllvTv3",
        "colab_type": "code",
        "colab": {}
      },
      "cell_type": "code",
      "source": [
        "# int+float\n",
        "x=3;y=5.3\n",
        "print('x->',x,'y->',y,'x+y->',x + y,'type->',type(x+y))"
      ],
      "execution_count": 0,
      "outputs": []
    },
    {
      "metadata": {
        "id": "gSGlIgbxvTv9",
        "colab_type": "code",
        "colab": {}
      },
      "cell_type": "code",
      "source": [
        "# float+float\n",
        "x=3.3;y=4.3\n",
        "print('x->',x,'y->',y,'x+y->',x + y,'type->',type(x+y))"
      ],
      "execution_count": 0,
      "outputs": []
    },
    {
      "metadata": {
        "id": "eifgwiXUvTwE",
        "colab_type": "code",
        "colab": {}
      },
      "cell_type": "code",
      "source": [
        "# float+float\n",
        "x=3E-1;y=3.2\n",
        "print('x->',x,'y->',y,'x+y->',x + y,'type->',type(x+y))"
      ],
      "execution_count": 0,
      "outputs": []
    },
    {
      "metadata": {
        "id": "ds2qoibsvTwJ",
        "colab_type": "text"
      },
      "cell_type": "markdown",
      "source": [
        "#### 減算"
      ]
    },
    {
      "metadata": {
        "id": "q4kVa010vTwJ",
        "colab_type": "code",
        "colab": {}
      },
      "cell_type": "code",
      "source": [
        "# int-int\n",
        "x=3;y=1\n",
        "print('x->',x,'y->',y,'x-y->',x - y,'type->',type(x-y))"
      ],
      "execution_count": 0,
      "outputs": []
    },
    {
      "metadata": {
        "id": "sRteJkb1vTwO",
        "colab_type": "code",
        "colab": {}
      },
      "cell_type": "code",
      "source": [
        "# int-int\n",
        "x=4;y=18\n",
        "print('x->',x,'y->',y,'x-y->',x - y,'type->',type(x-y))"
      ],
      "execution_count": 0,
      "outputs": []
    },
    {
      "metadata": {
        "id": "p7wqp36HvTwS",
        "colab_type": "code",
        "colab": {}
      },
      "cell_type": "code",
      "source": [
        "# int-float\n",
        "x=4;y=2.1\n",
        "print('x->',x,'y->',y,'x-y->',x - y,'type->',type(x-y))"
      ],
      "execution_count": 0,
      "outputs": []
    },
    {
      "metadata": {
        "id": "-NhMeGMlvTwX",
        "colab_type": "code",
        "colab": {}
      },
      "cell_type": "code",
      "source": [
        "# int-float\n",
        "x=4;y=2E-1\n",
        "print('x->',x,'y->',y,'x-y->',x - y,'type->',type(x-y))"
      ],
      "execution_count": 0,
      "outputs": []
    },
    {
      "metadata": {
        "id": "h9N_LebDvTwb",
        "colab_type": "code",
        "colab": {}
      },
      "cell_type": "code",
      "source": [
        "# float-float\n",
        "x=3.2;y=3E-6\n",
        "print('x->',x,'y->',y,'x-y->',x - y,'type->',type(x-y))"
      ],
      "execution_count": 0,
      "outputs": []
    },
    {
      "metadata": {
        "id": "mdoHrm-IvTwf",
        "colab_type": "code",
        "colab": {}
      },
      "cell_type": "code",
      "source": [
        "# float-float\n",
        "x=3.2;y=3E-7\n",
        "print('x->',x,'y->',y,'x-y->',x - y,'type->',type(x-y))"
      ],
      "execution_count": 0,
      "outputs": []
    },
    {
      "metadata": {
        "id": "id66ll6vvTwl",
        "colab_type": "text"
      },
      "cell_type": "markdown",
      "source": [
        "#### 乗算"
      ]
    },
    {
      "metadata": {
        "id": "c2_udJNovTwn",
        "colab_type": "code",
        "colab": {}
      },
      "cell_type": "code",
      "source": [
        "# int*int\n",
        "x=4;y=4\n",
        "print('x->',x,'y->',y,'x*y->',x * y,'type->',type(x*y))"
      ],
      "execution_count": 0,
      "outputs": []
    },
    {
      "metadata": {
        "id": "nJclKTAvvTwr",
        "colab_type": "code",
        "colab": {}
      },
      "cell_type": "code",
      "source": [
        "# int*float\n",
        "x=5;y=3.3\n",
        "print('x->',x,'y->',y,'x*y->',x * y,'type->',type(x*y))"
      ],
      "execution_count": 0,
      "outputs": []
    },
    {
      "metadata": {
        "id": "c11U-LbTvTwx",
        "colab_type": "code",
        "colab": {}
      },
      "cell_type": "code",
      "source": [
        "# float*float\n",
        "x=3.5;y=2.0\n",
        "print('x->',x,'y->',y,'x*y->',x * y,'type->',type(x*y))"
      ],
      "execution_count": 0,
      "outputs": []
    },
    {
      "metadata": {
        "id": "xZOpATumvTw0",
        "colab_type": "code",
        "colab": {}
      },
      "cell_type": "code",
      "source": [
        "# float*float\n",
        "x=3E2;y=6\n",
        "print('x->',x,'y->',y,'x*y->',x * y,'type->',type(x*y))"
      ],
      "execution_count": 0,
      "outputs": []
    },
    {
      "metadata": {
        "id": "HvOSLkwnvTw4",
        "colab_type": "text"
      },
      "cell_type": "markdown",
      "source": [
        "#### 除算"
      ]
    },
    {
      "metadata": {
        "id": "v9BaDVDxvTw7",
        "colab_type": "code",
        "colab": {}
      },
      "cell_type": "code",
      "source": [
        "# int/int\n",
        "# 整数を整数で割った場合でも返り値はfloat\n",
        "x=9;y=3\n",
        "print('x->',x,'y->',y,'x/y->',x / y,'type->',type(x/y))"
      ],
      "execution_count": 0,
      "outputs": []
    },
    {
      "metadata": {
        "id": "_Djo33-LvTxA",
        "colab_type": "code",
        "colab": {}
      },
      "cell_type": "code",
      "source": [
        "# int/0\n",
        "# 0で除した場合 -> Error\n",
        "x=9;y=0\n",
        "print('x->',x,'y->',y,'x/y->',x / y,'type->',type(x/y))"
      ],
      "execution_count": 0,
      "outputs": []
    },
    {
      "metadata": {
        "id": "ChBerH-xvTxI",
        "colab_type": "text"
      },
      "cell_type": "markdown",
      "source": [
        "#### 整数の除算"
      ]
    },
    {
      "metadata": {
        "id": "NYqPNQIdvTxI",
        "colab_type": "code",
        "colab": {}
      },
      "cell_type": "code",
      "source": [
        "# int//int\n",
        "# 割り切れる場合\n",
        "x=9;y=3\n",
        "print('x->',x,'y->',y,'x//y->',x // y,'type->',type(x//y))"
      ],
      "execution_count": 0,
      "outputs": []
    },
    {
      "metadata": {
        "id": "XouDgADDvTxK",
        "colab_type": "code",
        "colab": {}
      },
      "cell_type": "code",
      "source": [
        "# int//int\n",
        "# 割り切れない場合ｰ> 余りは切り捨て\n",
        "x=9;y=4\n",
        "print('x->',x,'y->',y,'x//y->',x // y,'type->',type(x//y))"
      ],
      "execution_count": 0,
      "outputs": []
    },
    {
      "metadata": {
        "id": "D77kwE7evTxQ",
        "colab_type": "code",
        "colab": {}
      },
      "cell_type": "code",
      "source": [
        "# int//float\n",
        "# 分母がfloatの場合 -> 返り値もfloat\n",
        "x=9;y=3.\n",
        "print('x->',x,'y->',y,'x//y->',x // y,'type->',type(x//y))"
      ],
      "execution_count": 0,
      "outputs": []
    },
    {
      "metadata": {
        "id": "p0o1PyCevTxT",
        "colab_type": "code",
        "colab": {}
      },
      "cell_type": "code",
      "source": [
        "# float//int\n",
        "# 分子がfloatの場合 ｰ> 返り値もfloat\n",
        "x=9.;y=3\n",
        "print('x->',x,'y->',y,'x//y->',x // y,'type->',type(x//y))"
      ],
      "execution_count": 0,
      "outputs": []
    },
    {
      "metadata": {
        "id": "4_lfs5-NvTxW",
        "colab_type": "text"
      },
      "cell_type": "markdown",
      "source": [
        "#### 剰余"
      ]
    },
    {
      "metadata": {
        "id": "dJe4QlBCvTxX",
        "colab_type": "code",
        "colab": {}
      },
      "cell_type": "code",
      "source": [
        "# int%int\n",
        "x=9;y=2\n",
        "print('x->',x,'y->',y,'x%y->',x % y,'type->',type(x%y))"
      ],
      "execution_count": 0,
      "outputs": []
    },
    {
      "metadata": {
        "id": "xFtizSDGvTxb",
        "colab_type": "code",
        "colab": {}
      },
      "cell_type": "code",
      "source": [
        "# int%float\n",
        "x=9;y=2.\n",
        "print('x->',x,'y->',y,'x%y->',x % y,'type->',type(x%y))"
      ],
      "execution_count": 0,
      "outputs": []
    },
    {
      "metadata": {
        "id": "TU7A7VTevTxe",
        "colab_type": "code",
        "colab": {}
      },
      "cell_type": "code",
      "source": [
        "# int%float\n",
        "x=9;y=2.1\n",
        "print('x->',x,'y->',y,'x%y->',x % y,'type->',type(x%y))"
      ],
      "execution_count": 0,
      "outputs": []
    },
    {
      "metadata": {
        "id": "XByxKwTgvTxh",
        "colab_type": "code",
        "colab": {}
      },
      "cell_type": "code",
      "source": [
        "# int%float\n",
        "x=9.;y=2\n",
        "print('x->',x,'y->',y,'x%y->',x % y,'type->',type(x%y))"
      ],
      "execution_count": 0,
      "outputs": []
    },
    {
      "metadata": {
        "id": "vJ_4yQL-vTxl",
        "colab_type": "code",
        "colab": {}
      },
      "cell_type": "code",
      "source": [
        "# int%float\n",
        "x=9.3;y=2\n",
        "print('x->',x,'y->',y,'x%y->',x % y,'type->',type(x%y))"
      ],
      "execution_count": 0,
      "outputs": []
    },
    {
      "metadata": {
        "id": "_9CBjQwavTxn",
        "colab_type": "text"
      },
      "cell_type": "markdown",
      "source": [
        "#### 指数"
      ]
    },
    {
      "metadata": {
        "id": "SHWjFi5NvTxn",
        "colab_type": "code",
        "colab": {}
      },
      "cell_type": "code",
      "source": [
        "# int**int\n",
        "x=3;y=2\n",
        "print('x->',x,'y->',y,'x**y->',x ** y,'type->',type(x**y))"
      ],
      "execution_count": 0,
      "outputs": []
    },
    {
      "metadata": {
        "id": "WOvYurrvvTxp",
        "colab_type": "code",
        "colab": {}
      },
      "cell_type": "code",
      "source": [
        "# float**int\n",
        "x=3.;y=2\n",
        "print('x->',x,'y->',y,'x**y->',x ** y,'type->',type(x**y))"
      ],
      "execution_count": 0,
      "outputs": []
    },
    {
      "metadata": {
        "id": "mJBD2czvvTxr",
        "colab_type": "code",
        "colab": {}
      },
      "cell_type": "code",
      "source": [
        "# int**float\n",
        "x=3;y=2.\n",
        "print('x->',x,'y->',y,'x**y->',x ** y,'type->',type(x**y))"
      ],
      "execution_count": 0,
      "outputs": []
    },
    {
      "metadata": {
        "id": "al5Uhrg5vTxu",
        "colab_type": "code",
        "colab": {}
      },
      "cell_type": "code",
      "source": [
        "# float**float\n",
        "x=3.;y=2.\n",
        "print('x->',x,'y->',y,'x**y->',x ** y,'type->',type(x**y))"
      ],
      "execution_count": 0,
      "outputs": []
    },
    {
      "metadata": {
        "id": "9qwAgmTwvTxw",
        "colab_type": "text"
      },
      "cell_type": "markdown",
      "source": [
        "---\n",
        "### 文字列操作  \n",
        "Fortranでいうところの`character`で、文字数の指定や制限はない  \n",
        "※正確には日本語だと**2^29=536,870,912文字**までいけるらしい\n",
        "- クォートを使った作成\n",
        "- `str()`を使った型変換\n",
        "- `\\`によるエスケープ\n",
        "- `+`による連結\n",
        "- `*`による繰り返し\n",
        "- `[]`による抽出\n",
        "- `[start:end:step]`によるスライス\n",
        "- `len()`による長さの取得"
      ]
    },
    {
      "metadata": {
        "id": "TPP6Tu-wvTxw",
        "colab_type": "text"
      },
      "cell_type": "markdown",
      "source": [
        "#### クォートを使った作成  \n",
        "文字列を作成するときはクォート(')かダブルクォート(\")で囲む"
      ]
    },
    {
      "metadata": {
        "id": "9xTqmDbkvTxx",
        "colab_type": "code",
        "colab": {
          "base_uri": "https://localhost:8080/",
          "height": 52
        },
        "outputId": "098f4866-a41b-4fd8-8255-1bce43bc8fb8"
      },
      "cell_type": "code",
      "source": [
        "x = 'hello'\n",
        "print(x,type(x))\n",
        "x = \"world\"\n",
        "print(x,type(x))"
      ],
      "execution_count": 1,
      "outputs": [
        {
          "output_type": "stream",
          "text": [
            "hello <class 'str'>\n",
            "world <class 'str'>\n"
          ],
          "name": "stdout"
        }
      ]
    },
    {
      "metadata": {
        "id": "ylhP_XDZvTx2",
        "colab_type": "text"
      },
      "cell_type": "markdown",
      "source": [
        "#### str()を使った型変換  \n",
        "数値データは`str()`を使うことで文字列型に変換できる"
      ]
    },
    {
      "metadata": {
        "id": "oIf2OjjdvTx2",
        "colab_type": "code",
        "colab": {}
      },
      "cell_type": "code",
      "source": [
        "x = 4\n",
        "print(x,type(x))\n",
        "x = str(x)\n",
        "print(x,type(x))\n",
        "y = 6.3\n",
        "print(y,type(y))\n",
        "y = str(y)\n",
        "print(y,type(y))"
      ],
      "execution_count": 0,
      "outputs": []
    },
    {
      "metadata": {
        "id": "UdUAkmDxvTx7",
        "colab_type": "text"
      },
      "cell_type": "markdown",
      "source": [
        "#### \\によるエスケープ  \n",
        "`\\`を使用することにより、改行などの特殊な処理を行ったり、`'`や`\"`を文字列として使用することができる  \n",
        "**特にファイルのパスを指定するときなどは`\\`（￥の場合もあり）を2つ重ねないと正しく認識しない場合があるので注意！**  \n",
        "`\\`がエスケープとして作用するのは、後ろに特定の文字が来たときだけ"
      ]
    },
    {
      "metadata": {
        "id": "fFcYogcNvTx7",
        "colab_type": "code",
        "colab": {}
      },
      "cell_type": "code",
      "source": [
        "# \\の後ろに関係ない文字が来たらそのまま表示\n",
        "x = 'hello \\world'\n",
        "print(x)\n",
        "# クォートとダブルクォートの表示\n",
        "x = '\\'hello\\' \\\"world\"'\n",
        "print(x)\n",
        "# 改行\n",
        "x = 'hello \\nworld'\n",
        "print(x)\n",
        "# Tab\n",
        "x = 'hello \\tworld'\n",
        "print(x)\n",
        "# \\\n",
        "x = 'hello \\\\world'\n",
        "print(x)\n",
        "# Pathの指定でよくある\n",
        "x = 'C\\:work\\test.txt'\n",
        "print(x)\n",
        "# Pathを指定するときの方法1：\\を重ねる\n",
        "x = 'C\\\\:work\\\\test.txt'\n",
        "print(x)\n",
        "# Pathを指定するときの方法2：/を使う\n",
        "x = 'C/:work/test.txt'\n",
        "print(x)"
      ],
      "execution_count": 0,
      "outputs": []
    },
    {
      "metadata": {
        "id": "ZXkILPefvTx9",
        "colab_type": "text"
      },
      "cell_type": "markdown",
      "source": [
        "#### +による連結"
      ]
    },
    {
      "metadata": {
        "id": "CfG46T9WvTx9",
        "colab_type": "code",
        "colab": {}
      },
      "cell_type": "code",
      "source": [
        "x = 'hello'\n",
        "y = 'world'\n",
        "print(x,y,x+y)"
      ],
      "execution_count": 0,
      "outputs": []
    },
    {
      "metadata": {
        "id": "2-lmCn_0vTyA",
        "colab_type": "text"
      },
      "cell_type": "markdown",
      "source": [
        "#### *による繰り返し"
      ]
    },
    {
      "metadata": {
        "id": "en57skHuvTyB",
        "colab_type": "code",
        "colab": {}
      },
      "cell_type": "code",
      "source": [
        "x = 'Nan'\n",
        "print(x,x*3)"
      ],
      "execution_count": 0,
      "outputs": []
    },
    {
      "metadata": {
        "id": "wqIRb9lZvTyD",
        "colab_type": "text"
      },
      "cell_type": "markdown",
      "source": [
        "#### []による抽出  \n",
        "- 後述するリストと同じように扱える\n",
        "- \\[\\]内に整数(int)を入れることで特定の位置の文字を抽出できる\n",
        "- \\[\\]内に入れる整数をindexと呼ぶ\n",
        "- 1文字目が\\[0\\]\n",
        "- 最後の文字は\\[-x\\]で最後からx番目の文字を指定\n",
        "- 文字列長を超えるインデックスを指定するとエラー\n",
        "\n",
        "|文字列：|H|e|l|l|o|!|\n",
        "|-:|-|-|-|-|-|-|\n",
        "|index:|0|1|2|3|4|5|\n",
        "|index:|-6|-5|-4|-3|-2|-1|"
      ]
    },
    {
      "metadata": {
        "id": "DwlGvjTsvTyE",
        "colab_type": "code",
        "colab": {}
      },
      "cell_type": "code",
      "source": [
        "x = 'HelloNewWorld!'\n",
        "# indexは0スタート\n",
        "print(x[0])\n",
        "print(x[1])\n",
        "# indexがマイナスの場合、反対方向から数える\n",
        "print(x[-1])\n",
        "print(x[-14])"
      ],
      "execution_count": 0,
      "outputs": []
    },
    {
      "metadata": {
        "id": "GqwEdArcvTyH",
        "colab_type": "code",
        "colab": {}
      },
      "cell_type": "code",
      "source": [
        "# 文字列長を超えるindexを指定するとエラー\n",
        "# index out of range\n",
        "print(x[20])"
      ],
      "execution_count": 0,
      "outputs": []
    },
    {
      "metadata": {
        "id": "WP_wXZUIvTyH",
        "colab_type": "text"
      },
      "cell_type": "markdown",
      "source": [
        "#### [start:end:step]によるスライス"
      ]
    },
    {
      "metadata": {
        "id": "IoK4ss2-vTyI",
        "colab_type": "code",
        "colab": {}
      },
      "cell_type": "code",
      "source": [
        "x = 'HelloNewWorld!'\n",
        "# すべて抽出\n",
        "print(x[:])\n",
        "# 最初4文字\n",
        "print(x[:4])\n",
        "# 5～7文字目\n",
        "print(x[4:7])\n",
        "# 後ろ5文字\n",
        "print(x[-5:])\n",
        "# 3文字間隔\n",
        "print(x[::3])\n",
        "print(x[1::3])\n",
        "print(x[2::3])"
      ],
      "execution_count": 0,
      "outputs": []
    },
    {
      "metadata": {
        "id": "x_TClOOZvTyK",
        "colab_type": "text"
      },
      "cell_type": "markdown",
      "source": [
        "#### len()による長さの取得"
      ]
    },
    {
      "metadata": {
        "id": "jUf4MtIVvTyL",
        "colab_type": "code",
        "colab": {}
      },
      "cell_type": "code",
      "source": [
        "x = 'Hello'\n",
        "print(len(x))"
      ],
      "execution_count": 0,
      "outputs": []
    },
    {
      "metadata": {
        "id": "KGSdx2r7vTyT",
        "colab_type": "text"
      },
      "cell_type": "markdown",
      "source": [
        "---\n",
        "## 配列のようなものの扱い  \n",
        "Fortranでいう配列に類するものについて。1つの変数の中に複数の要素を持ち、`Index`や`Key`で参照するものを対象とする。Pythonでは該当するものは以下の4つ\n",
        "- list(リスト)\n",
        "- tuple(タプル)\n",
        "- dictionary(辞書)\n",
        "- set(集合)\n",
        "\n",
        "**注意**  \n",
        "Fortranのように配列計算を行う場合は、Numpyというライブラリにある配列(array)を使う。  \n",
        "※NumpyはC++でコーディングされているため、計算速度が圧倒的に早い"
      ]
    },
    {
      "metadata": {
        "id": "AsjPcP4MvTyU",
        "colab_type": "text"
      },
      "cell_type": "markdown",
      "source": [
        "### List\n",
        "リスト。多分一番よく使う。\n",
        "- 変数内の要素に対して番号(`Index`)でアクセスする\n",
        "    - Indexは0スタート\n",
        "- 要素を変更可能(immutable)\n",
        "- データが順序を持つ(sequence型)\n",
        "    - 順番にアクセスする場合、Indexの順で呼び出される\n",
        "- 要素の型はなんでもOK\n",
        "    - FortranやBasicと異なり、1番目の要素がint、2番目がstrとかでも大丈夫\n",
        "    - listを要素に持つこともできるｰ>リスト内リストみたいなこともできる\n",
        "- リスト内包表記"
      ]
    },
    {
      "metadata": {
        "id": "UAtjeFa1vTyV",
        "colab_type": "text"
      },
      "cell_type": "markdown",
      "source": [
        "#### Listの作成  \n",
        "基本形：\\[\\]で括って`,`で区切る"
      ]
    },
    {
      "metadata": {
        "id": "6mLSqM2jvTyW",
        "colab_type": "code",
        "colab": {},
        "outputId": "d2726a48-e64f-4ece-c77f-30648d936a91"
      },
      "cell_type": "code",
      "source": [
        "ls = [1,2,3,5,7,11,13]\n",
        "print(ls)\n",
        "ls = ['hello','world',1,2,3,5]\n",
        "print('要素の型が違ってもOK -> ',ls)\n",
        "ls1 = ['hello','world']\n",
        "ls2 = [1,2,3,5]\n",
        "ls = [ls1,ls2]\n",
        "print('リスト内リストも可能 ->',ls)"
      ],
      "execution_count": 0,
      "outputs": [
        {
          "output_type": "stream",
          "text": [
            "[1, 2, 3, 5, 7, 11, 13]\n",
            "要素の型が違ってもOK ->  ['hello', 'world', 1, 2, 3, 5]\n",
            "リスト内リストも可能 -> [['hello', 'world'], [1, 2, 3, 5]]\n"
          ],
          "name": "stdout"
        }
      ]
    },
    {
      "metadata": {
        "id": "5Eh9XJqOvTye",
        "colab_type": "text"
      },
      "cell_type": "markdown",
      "source": [
        "#### 要素へのアクセス  \n",
        "インデックスで指定。複数指定する場合はスライスも可能。"
      ]
    },
    {
      "metadata": {
        "id": "wvDEGOZQvTyf",
        "colab_type": "code",
        "colab": {},
        "outputId": "2d05eea8-d056-4718-b1f7-3eae17d049f1"
      },
      "cell_type": "code",
      "source": [
        "ls = [1,2,3,5,7,11,13]\n",
        "print(ls[0])\n",
        "print(ls[3:6])\n"
      ],
      "execution_count": 0,
      "outputs": [
        {
          "output_type": "stream",
          "text": [
            "1\n",
            "[5, 7, 11]\n"
          ],
          "name": "stdout"
        }
      ]
    },
    {
      "metadata": {
        "id": "kxqfIwlBvTyi",
        "colab_type": "text"
      },
      "cell_type": "markdown",
      "source": [
        "#### 要素の追加  \n",
        "`append()`を使う"
      ]
    },
    {
      "metadata": {
        "id": "nOyZDWJSvTyk",
        "colab_type": "code",
        "colab": {},
        "outputId": "717a2fe1-5e96-4580-b9e2-b233a65a898d"
      },
      "cell_type": "code",
      "source": [
        "ls = ['hello','world']\n",
        "print(ls)\n",
        "ls.append('!')\n",
        "print(ls)"
      ],
      "execution_count": 0,
      "outputs": [
        {
          "output_type": "stream",
          "text": [
            "['hello', 'world']\n",
            "['hello', 'world', '!']\n"
          ],
          "name": "stdout"
        }
      ]
    },
    {
      "metadata": {
        "id": "dPPje8wSvTym",
        "colab_type": "text"
      },
      "cell_type": "markdown",
      "source": [
        "#### 要素の削除\n",
        "- clear()\n",
        "    - 要素をすべて削除して空のリストにする\n",
        "- pop()\n",
        "    - 指定したインデックスの要素を取り出す（元のListから削除される）\n",
        "- remove()\n",
        "    - 指定した値を持つ要素の一番はじめのものを削除\n",
        "- del\n",
        "    - スライス等で要素を削除\n",
        "    - これだけ記法が違うので注意"
      ]
    },
    {
      "metadata": {
        "id": "GMN7qszCvTym",
        "colab_type": "code",
        "colab": {},
        "outputId": "9306308f-14cb-4189-955a-402f3e51ecd2"
      },
      "cell_type": "code",
      "source": [
        "ls = ['Pikachu','Dragonite','Slowbro','Pidgeotto']\n",
        "print(ls)\n",
        "ls.clear()\n",
        "print('clear() -> ',ls,'\\n')\n",
        "\n",
        "ls = ['Pikachu','Dragonite','Slowbro','Pidgeotto']\n",
        "print(ls)\n",
        "ls.pop(1)\n",
        "print('pop()で1番目の要素を抽出 -> ',ls,'\\n')\n",
        "\n",
        "ls = ['Pikachu','Dragonite','Slowbro','Pidgeotto','Dragonite']\n",
        "print(ls)\n",
        "ls.remove('Dragonite')\n",
        "print('remove()でDragoniteを削除 -> ',ls,'\\n')\n",
        "\n",
        "ls = ['Pikachu','Dragonite','Slowbro','Pidgeotto']\n",
        "print(ls)\n",
        "del ls[2:]\n",
        "print('del で3番目以降を削除 ->',ls)"
      ],
      "execution_count": 0,
      "outputs": [
        {
          "output_type": "stream",
          "text": [
            "['Pikachu', 'Dragonite', 'Slowbro', 'Pidgeotto']\n",
            "clear() ->  [] \n",
            "\n",
            "['Pikachu', 'Dragonite', 'Slowbro', 'Pidgeotto']\n",
            "pop()で1番目の要素を抽出 ->  ['Pikachu', 'Slowbro', 'Pidgeotto'] \n",
            "\n",
            "['Pikachu', 'Dragonite', 'Slowbro', 'Pidgeotto', 'Dragonite']\n",
            "remove()でDragoniteを削除 ->  ['Pikachu', 'Slowbro', 'Pidgeotto', 'Dragonite'] \n",
            "\n",
            "['Pikachu', 'Dragonite', 'Slowbro', 'Pidgeotto']\n",
            "del で3番目以降を削除 -> ['Pikachu', 'Dragonite']\n"
          ],
          "name": "stdout"
        }
      ]
    },
    {
      "metadata": {
        "id": "BRmHbvgkvTyq",
        "colab_type": "text"
      },
      "cell_type": "markdown",
      "source": [
        "#### Listの結合"
      ]
    },
    {
      "metadata": {
        "id": "PeHzMKGWvTyr",
        "colab_type": "code",
        "colab": {},
        "outputId": "c6dae6f4-7f41-48e6-9fc9-ebf4cbfc105f"
      },
      "cell_type": "code",
      "source": [
        "ls1 = ['Make','America']\n",
        "ls2 = ['great','again','!']\n",
        "ls = ls1 +ls2\n",
        "print(ls)"
      ],
      "execution_count": 0,
      "outputs": [
        {
          "output_type": "stream",
          "text": [
            "['Make', 'America', 'great', 'again', '!']\n"
          ],
          "name": "stdout"
        }
      ]
    },
    {
      "metadata": {
        "id": "ROug7o0KvTyx",
        "colab_type": "text"
      },
      "cell_type": "markdown",
      "source": [
        "#### List内包表記  \n",
        "1行でいろいろできます。可読性が落ちる場合があるのでご利用は計画的に。"
      ]
    },
    {
      "metadata": {
        "id": "XLUm2lyavTyy",
        "colab_type": "code",
        "colab": {},
        "outputId": "eb6b1fe2-f665-4d07-ae10-e887a6d252c3"
      },
      "cell_type": "code",
      "source": [
        "ls = [i for i in range(5)]\n",
        "print('基本的な内包表記の例\\n',ls)\n",
        "\n",
        "ls = [i*3+2 for i in range(5)]\n",
        "print('数式にすることも可能\\n',ls)\n",
        "\n",
        "ls = [s for s in 'ABCDEF']\n",
        "print('文字列から取り出すことも可能\\n',ls)\n",
        "\n",
        "lsbase = ['AB','BC','CD','EF']\n",
        "ls = ['{0}_{1}'.format(str(i),s) for i,s in enumerate(lsbase)]\n",
        "print('リストから取り出すことも可能\\n',ls)\n",
        "\n",
        "ls = [i for i in range(10) if i%2==0]\n",
        "print('if文での抽出も可能\\n',ls)\n",
        "\n",
        "ls = [i if i%2==0 else '!!' for i in range(10)]\n",
        "print('if_else文も可能<記法注意>\\n',ls)\n",
        "\n"
      ],
      "execution_count": 0,
      "outputs": [
        {
          "output_type": "stream",
          "text": [
            "基本的な内包表記の例\n",
            " [0, 1, 2, 3, 4]\n",
            "数式にすることも可能\n",
            " [2, 5, 8, 11, 14]\n",
            "文字列から取り出すことも可能\n",
            " ['A', 'B', 'C', 'D', 'E', 'F']\n",
            "リストから取り出すことも可能\n",
            " ['0_AB', '1_BC', '2_CD', '3_EF']\n",
            "if文での抽出も可能\n",
            " [0, 2, 4, 6, 8]\n",
            "if_else文も可能<記法注意>\n",
            " [0, '!!', 2, '!!', 4, '!!', 6, '!!', 8, '!!']\n"
          ],
          "name": "stdout"
        }
      ]
    },
    {
      "metadata": {
        "id": "CyFAifizvTy7",
        "colab_type": "text"
      },
      "cell_type": "markdown",
      "source": [
        "---\n",
        "### Tuple  \n",
        "Listに似ているが値を変更できない(immutable)という特徴がある。あんまり使わない。\n",
        "- `,`で指定(`()`で指定することが多い)\n",
        "- インデックスで要素にアクセスする(Listと同じ)\n",
        "- 関数やメソッドの引数として使われることが多い"
      ]
    },
    {
      "metadata": {
        "id": "2gr78c2uvTy8",
        "colab_type": "code",
        "colab": {
          "base_uri": "https://localhost:8080/",
          "height": 86
        },
        "outputId": "ed76e658-cfca-48ae-a325-0b88ee07ce6a"
      },
      "cell_type": "code",
      "source": [
        "# 基本的な指定\n",
        "s = 'hello','world'\n",
        "print(s)\n",
        "\n",
        "# ()で括っても同じ\n",
        "s = ('hello','world')\n",
        "print(s)\n",
        "\n",
        "# 空のTuple\n",
        "s = ()\n",
        "print(s,type(s))\n",
        "\n",
        "# 要素数1のTuple\n",
        "s = 'hello',\n",
        "print(s,type(s))"
      ],
      "execution_count": 2,
      "outputs": [
        {
          "output_type": "stream",
          "text": [
            "('hello', 'world')\n",
            "('hello', 'world')\n",
            "() <class 'tuple'>\n",
            "('hello',) <class 'tuple'>\n"
          ],
          "name": "stdout"
        }
      ]
    },
    {
      "metadata": {
        "id": "oEaBkIbHvTy-",
        "colab_type": "code",
        "colab": {
          "base_uri": "https://localhost:8080/",
          "height": 52
        },
        "outputId": "08f1fc45-42c8-419e-b4bc-537c2292a239"
      },
      "cell_type": "code",
      "source": [
        "s = 'hello','world','!'\n",
        "\n",
        "# 要素へのアクセス\n",
        "print(s[0])\n",
        "print(s[-1])"
      ],
      "execution_count": 3,
      "outputs": [
        {
          "output_type": "stream",
          "text": [
            "hello\n",
            "!\n"
          ],
          "name": "stdout"
        }
      ]
    },
    {
      "metadata": {
        "id": "MhGn5DpdvTzD",
        "colab_type": "code",
        "colab": {
          "base_uri": "https://localhost:8080/",
          "height": 52
        },
        "outputId": "8d6a92e0-5021-454d-8420-f8003ed8db77"
      },
      "cell_type": "code",
      "source": [
        "# 要素を分割して取り出し(unpack)\n",
        "s = 'hello','world'\n",
        "print(s)\n",
        "s1,s2 = s\n",
        "print(s1,s2)"
      ],
      "execution_count": 4,
      "outputs": [
        {
          "output_type": "stream",
          "text": [
            "('hello', 'world')\n",
            "hello world\n"
          ],
          "name": "stdout"
        }
      ]
    },
    {
      "metadata": {
        "id": "g83usqr-vTzG",
        "colab_type": "code",
        "colab": {
          "base_uri": "https://localhost:8080/",
          "height": 52
        },
        "outputId": "1f58972b-80e9-43d0-9fcd-6ac102eb9dd7"
      },
      "cell_type": "code",
      "source": [
        "# 応用：要素の入れ替え\n",
        "#  要素を設定\n",
        "s1 = 'hello'\n",
        "s2 = 'world'\n",
        "print(s1,s2)\n",
        "\n",
        "# 要素を入れ替え\n",
        "s1,s2 = s2,s1\n",
        "print(s1,s2)"
      ],
      "execution_count": 5,
      "outputs": [
        {
          "output_type": "stream",
          "text": [
            "hello world\n",
            "world hello\n"
          ],
          "name": "stdout"
        }
      ]
    },
    {
      "metadata": {
        "id": "oU3_d3mZvym6",
        "colab_type": "text"
      },
      "cell_type": "markdown",
      "source": [
        "### 辞書"
      ]
    },
    {
      "metadata": {
        "id": "ChNwpHd9v7WJ",
        "colab_type": "code",
        "colab": {
          "base_uri": "https://localhost:8080/",
          "height": 34
        },
        "outputId": "978db3a2-5a0d-4bed-ab21-6e789d694582"
      },
      "cell_type": "code",
      "source": [
        "# 基本の設定\n",
        "d = {'key1':'hello','key2':'world'}\n",
        "print(d,type(d))"
      ],
      "execution_count": 8,
      "outputs": [
        {
          "output_type": "stream",
          "text": [
            "{'key1': 'hello', 'key2': 'world'} <class 'dict'>\n"
          ],
          "name": "stdout"
        }
      ]
    },
    {
      "metadata": {
        "id": "cLixU-ltwNZq",
        "colab_type": "code",
        "colab": {
          "base_uri": "https://localhost:8080/",
          "height": 34
        },
        "outputId": "9d88af7c-d72f-4136-ab1b-49f3d928d1ec"
      },
      "cell_type": "code",
      "source": [
        "# 要素へのアクセス\n",
        "d['key1']\n"
      ],
      "execution_count": 9,
      "outputs": [
        {
          "output_type": "execute_result",
          "data": {
            "text/plain": [
              "'hello'"
            ]
          },
          "metadata": {
            "tags": []
          },
          "execution_count": 9
        }
      ]
    }
  ]
}